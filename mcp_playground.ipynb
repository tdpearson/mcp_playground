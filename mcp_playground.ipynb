{
 "cells": [
  {
   "cell_type": "code",
   "execution_count": null,
   "id": "7c0de424-db7a-426b-9f1c-43cec18dafe2",
   "metadata": {
    "scrolled": true
   },
   "outputs": [],
   "source": [
    "!pip install langchain-mcp-adapters langgraph langchain-openai"
   ]
  },
  {
   "cell_type": "code",
   "execution_count": null,
   "id": "916d4b14-7a60-466c-a6d7-4bd77cb1a6af",
   "metadata": {},
   "outputs": [],
   "source": [
    "from mcp import ClientSession, StdioServerParameters\n",
    "from mcp.client.stdio import stdio_client\n",
    "\n",
    "from langchain_mcp_adapters.tools import load_mcp_tools\n",
    "from langgraph.prebuilt import create_react_agent"
   ]
  },
  {
   "cell_type": "code",
   "execution_count": null,
   "id": "ceac7c76-a5ff-45f2-a818-f6b729988107",
   "metadata": {},
   "outputs": [],
   "source": [
    "from pathlib import Path\n",
    "from langchain_openai import ChatOpenAI\n",
    "\n",
    "model = ChatOpenAI(\n",
    "    openai_api_base=\"https://llm.nrp-nautilus.io/\",\n",
    "    openai_api_key=Path(\"~/.keys/nrp-llm\").expanduser().read_text().strip(),\n",
    "    model = \"llama3\",\n",
    "    #model = \"groq-tools\",\n",
    "    temperature=0.1\n",
    ")\n"
   ]
  },
  {
   "cell_type": "code",
   "execution_count": null,
   "id": "39d3e20e-64a8-4c24-93d5-0a142b21cd8b",
   "metadata": {},
   "outputs": [],
   "source": [
    "server_params = StdioServerParameters(\n",
    "    command=\"python\",\n",
    "    args=[str(Path.cwd() / \"pg_server_SHAREOK.py\")],\n",
    ")"
   ]
  },
  {
   "cell_type": "code",
   "execution_count": null,
   "id": "de437b08-fb6b-4984-8627-3995bdebf053",
   "metadata": {},
   "outputs": [],
   "source": [
    "async with stdio_client(server_params) as (read, write):\n",
    "    async with ClientSession(read, write) as session:\n",
    "        # Initialize the connection\n",
    "        await session.initialize()\n",
    "\n",
    "        # Get tools\n",
    "        tools = await load_mcp_tools(session)\n",
    "\n",
    "        # Create and run the agent\n",
    "        agent = create_react_agent(model, tools)\n",
    "        agent_response = await agent.ainvoke({\"messages\": \"What documents are about frogs? Give me the author name.\"})"
   ]
  },
  {
   "cell_type": "code",
   "execution_count": null,
   "id": "ab54fec9-14b5-4e26-b52c-ee734872c47a",
   "metadata": {},
   "outputs": [],
   "source": [
    "agent_response['messages']"
   ]
  },
  {
   "cell_type": "code",
   "execution_count": null,
   "id": "b8fd1795-1df1-4b35-96fe-3012c1c21411",
   "metadata": {},
   "outputs": [],
   "source": [
    "from json import loads\n",
    "from pprint import pprint\n",
    "pprint(agent_response['messages'][-1].content)"
   ]
  },
  {
   "cell_type": "code",
   "execution_count": null,
   "id": "4b2afdc6-c4d0-4edb-a26e-4885a6246842",
   "metadata": {},
   "outputs": [],
   "source": []
  }
 ],
 "metadata": {
  "kernelspec": {
   "display_name": "Python 3 (ipykernel)",
   "language": "python",
   "name": "python3"
  },
  "language_info": {
   "codemirror_mode": {
    "name": "ipython",
    "version": 3
   },
   "file_extension": ".py",
   "mimetype": "text/x-python",
   "name": "python",
   "nbconvert_exporter": "python",
   "pygments_lexer": "ipython3",
   "version": "3.12.9"
  }
 },
 "nbformat": 4,
 "nbformat_minor": 5
}
