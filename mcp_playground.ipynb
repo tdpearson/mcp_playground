{
 "cells": [
  {
   "cell_type": "code",
   "execution_count": null,
   "id": "7c0de424-db7a-426b-9f1c-43cec18dafe2",
   "metadata": {
    "scrolled": true
   },
   "outputs": [],
   "source": [
    "!pip install langchain-mcp-adapters langgraph langchain-openai"
   ]
  },
  {
   "cell_type": "code",
   "execution_count": null,
   "id": "916d4b14-7a60-466c-a6d7-4bd77cb1a6af",
   "metadata": {},
   "outputs": [],
   "source": [
    "from mcp import ClientSession, StdioServerParameters\n",
    "from mcp.client.stdio import stdio_client\n",
    "\n",
    "from langchain_mcp_adapters.tools import load_mcp_tools\n",
    "from langgraph.prebuilt import create_react_agent\n",
    "\n",
    "from subprocess import check_output"
   ]
  },
  {
   "cell_type": "code",
   "execution_count": null,
   "id": "8fa2d69d-9f49-439e-b103-cf240957d23e",
   "metadata": {},
   "outputs": [],
   "source": [
    "# enable multi-turn conversations\n",
    "from langgraph.checkpoint.memory import InMemorySaver\n",
    "\n",
    "checkpointer = InMemorySaver()\n",
    "\n",
    "config = {\"configurable\": {\"thread_id\": \"1\"}}"
   ]
  },
  {
   "cell_type": "code",
   "execution_count": null,
   "id": "ceac7c76-a5ff-45f2-a818-f6b729988107",
   "metadata": {},
   "outputs": [],
   "source": [
    "from langchain_openai import ChatOpenAI\n",
    "\n",
    "model = ChatOpenAI(\n",
    "    openai_api_base = \"https://litellm.lib.ou.edu/\",\n",
    "    openai_api_key = check_output([\"pass\", \"application/ul-llm/tdp\"]).strip(),\n",
    "    model = \"nova-lite-v1:0\",\n",
    "    #openai_api_base = \"http://ellm.nrp-nautilus.io/v1\",\n",
    "    #openai_api_key = check_output([\"pass\", \"application/nrp-llm/ul-tdp\"]).strip(),\n",
    "    #model = \"olmo\",\n",
    "    temperature=0.1\n",
    ")\n"
   ]
  },
  {
   "cell_type": "code",
   "execution_count": null,
   "id": "39d3e20e-64a8-4c24-93d5-0a142b21cd8b",
   "metadata": {},
   "outputs": [],
   "source": [
    "from pathlib import Path\n",
    "\n",
    "server_params = StdioServerParameters(\n",
    "    command=\"python\",\n",
    "    args=[str(Path.cwd() / \"pg_server_SHAREOK.py\")],\n",
    ")"
   ]
  },
  {
   "cell_type": "code",
   "execution_count": null,
   "id": "de437b08-fb6b-4984-8627-3995bdebf053",
   "metadata": {},
   "outputs": [],
   "source": [
    "async with stdio_client(server_params) as (read, write):\n",
    "    async with ClientSession(read, write) as session:\n",
    "        # Initialize the connection\n",
    "        await session.initialize()\n",
    "\n",
    "        # Get tools\n",
    "        tools = await load_mcp_tools(session)\n",
    "\n",
    "        # Create and run the agent\n",
    "        agent = create_react_agent(model, tools, checkpointer=checkpointer)\n",
    "        #agent_response = await agent.ainvoke({\"messages\": \"What papers are about machine learning? Give me the author name, title, two sentence summary of the abstract, and the url.\"}, config)\n",
    "        agent_response = await agent.ainvoke({\"messages\": \"What papers are about machine learning? Give me the title and url.\"}, config)"
   ]
  },
  {
   "cell_type": "code",
   "execution_count": null,
   "id": "b8fd1795-1df1-4b35-96fe-3012c1c21411",
   "metadata": {},
   "outputs": [],
   "source": [
    "from IPython.display import Markdown\n",
    "\n",
    "results = agent_response['messages'][-1].content\n",
    "\n",
    "Markdown(results)"
   ]
  },
  {
   "cell_type": "code",
   "execution_count": null,
   "id": "08cd0ff8-8220-4505-8a8e-0e7c9d86b8fb",
   "metadata": {},
   "outputs": [],
   "source": [
    "agent_response = await agent.ainvoke({\"messages\": \"Give me a list of any other papers you found.\"}, config)\n",
    "results = agent_response['messages'][-1].content\n",
    "\n",
    "Markdown(results)"
   ]
  },
  {
   "cell_type": "code",
   "execution_count": null,
   "id": "e7b64f0b-7066-4823-96a1-e28f770c0464",
   "metadata": {},
   "outputs": [],
   "source": [
    "agent_response = await agent.ainvoke({\"messages\": \"Do any of these papers mention topics on graph theory?\"}, config)\n",
    "results = agent_response['messages'][-1].content\n",
    "\n",
    "Markdown(results)"
   ]
  },
  {
   "cell_type": "code",
   "execution_count": null,
   "id": "8ac7eac0-978c-40d1-9a3b-1835203edd4e",
   "metadata": {},
   "outputs": [],
   "source": []
  }
 ],
 "metadata": {
  "kernelspec": {
   "display_name": "Python 3 (ipykernel)",
   "language": "python",
   "name": "python3"
  },
  "language_info": {
   "codemirror_mode": {
    "name": "ipython",
    "version": 3
   },
   "file_extension": ".py",
   "mimetype": "text/x-python",
   "name": "python",
   "nbconvert_exporter": "python",
   "pygments_lexer": "ipython3",
   "version": "3.12.10"
  }
 },
 "nbformat": 4,
 "nbformat_minor": 5
}
