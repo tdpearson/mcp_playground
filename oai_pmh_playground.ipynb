{
 "cells": [
  {
   "cell_type": "code",
   "execution_count": null,
   "id": "169514e2-50ee-4912-9cb3-8d977d38ca54",
   "metadata": {},
   "outputs": [],
   "source": [
    "!pip install sickle"
   ]
  },
  {
   "cell_type": "code",
   "execution_count": null,
   "id": "10737111-fe5f-4052-809a-dc3960dba60d",
   "metadata": {},
   "outputs": [],
   "source": [
    "from sickle import Sickle"
   ]
  },
  {
   "cell_type": "code",
   "execution_count": null,
   "id": "711e286e-013f-4d02-8b63-c7bc216c0a78",
   "metadata": {},
   "outputs": [],
   "source": [
    "URL = \"https://shareok.org/server/oai/request\""
   ]
  },
  {
   "cell_type": "code",
   "execution_count": null,
   "id": "03b45e00-2337-4c06-a0f5-ce7d596c737f",
   "metadata": {},
   "outputs": [],
   "source": [
    "sickle = Sickle(URL)"
   ]
  },
  {
   "cell_type": "code",
   "execution_count": null,
   "id": "0cc07488-b72d-4ffd-b70a-fe309b204441",
   "metadata": {
    "scrolled": true
   },
   "outputs": [],
   "source": [
    "record = sickle.GetRecord(metadataPrefix=\"oai_dc\", identifier=\"oai:shareok.org:11244/333563\")"
   ]
  },
  {
   "cell_type": "code",
   "execution_count": null,
   "id": "64b6f1c7-d6e3-4318-b968-df5b83429656",
   "metadata": {},
   "outputs": [],
   "source": [
    "record.metadata"
   ]
  },
  {
   "cell_type": "code",
   "execution_count": null,
   "id": "f15f7854-271b-4cee-bd2c-e58499cf9df1",
   "metadata": {},
   "outputs": [],
   "source": [
    "sets = sickle.ListSets()"
   ]
  },
  {
   "cell_type": "code",
   "execution_count": null,
   "id": "23a5d22c-0698-4301-bbb7-7f35ab7a42f1",
   "metadata": {
    "scrolled": true
   },
   "outputs": [],
   "source": [
    "for set_ in sets:\n",
    "    print(set_)"
   ]
  },
  {
   "cell_type": "code",
   "execution_count": null,
   "id": "ba9d3680-bede-48be-a157-02314d5ed41d",
   "metadata": {},
   "outputs": [],
   "source": [
    "dissertation_records = sickle.ListRecords(metadataPrefix=\"oai_dc\", set=\"col_11244_10476\")"
   ]
  },
  {
   "cell_type": "code",
   "execution_count": null,
   "id": "db0d6c11-03d5-481d-91f1-986bc1f4a83d",
   "metadata": {
    "scrolled": true
   },
   "outputs": [],
   "source": [
    "record = dissertation_records.next()"
   ]
  },
  {
   "cell_type": "code",
   "execution_count": null,
   "id": "94504a19-8be1-4641-8196-3112697a84f0",
   "metadata": {},
   "outputs": [],
   "source": [
    "record.metadata['title']"
   ]
  },
  {
   "cell_type": "code",
   "execution_count": null,
   "id": "4da999b4-e680-49c4-8cb6-bbfd109bc6c5",
   "metadata": {},
   "outputs": [],
   "source": [
    "record.metadata"
   ]
  },
  {
   "cell_type": "code",
   "execution_count": null,
   "id": "4f83460c-0f8e-427d-b952-fc46288fe824",
   "metadata": {},
   "outputs": [],
   "source": [
    "for record in dissertation_records:\n",
    "    try:\n",
    "        print(record.metadata.get('creator', 'NOT CAPTURED'))\n",
    "    except AttributeError:\n",
    "        print(\"Record does not have the metadata field\")"
   ]
  }
 ],
 "metadata": {
  "kernelspec": {
   "display_name": "Python 3 (ipykernel)",
   "language": "python",
   "name": "python3"
  },
  "language_info": {
   "codemirror_mode": {
    "name": "ipython",
    "version": 3
   },
   "file_extension": ".py",
   "mimetype": "text/x-python",
   "name": "python",
   "nbconvert_exporter": "python",
   "pygments_lexer": "ipython3",
   "version": "3.12.9"
  }
 },
 "nbformat": 4,
 "nbformat_minor": 5
}
